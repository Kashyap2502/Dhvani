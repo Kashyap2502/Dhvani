{
 "cells": [
  {
   "cell_type": "code",
   "execution_count": 47,
   "id": "3cc5cb0d",
   "metadata": {},
   "outputs": [],
   "source": [
    "import cv2 \n",
    "import numpy as np"
   ]
  },
  {
   "cell_type": "code",
   "execution_count": 49,
   "id": "97e887b1",
   "metadata": {},
   "outputs": [],
   "source": [
    "good=cv2.imread(\"D:\\\\def\\\\good.png\")\n",
    "d=cv2.imread(\"D:\\\\def\\\\defect2.png\")\n",
    "d4=np.copy(d)\n",
    "ans=np.copy(d)\n",
    "d4=cv2.cvtColor(d4,cv2.COLOR_BGR2GRAY)\n",
    "good=cv2.cvtColor(good,cv2.COLOR_BGR2GRAY)\n",
    "\n",
    "d4=cv2.bitwise_not(d4)\n",
    "d4=cv2.bitwise_and(d4,good,mask=d4)\n",
    "c,_=cv2.findContours(d4,cv2.RETR_TREE,cv2.CHAIN_APPROX_SIMPLE)\n",
    "for i in c:\n",
    "    if cv2.contourArea(i) > 10:\n",
    "        x, y, w, h = cv2.boundingRect(i)\n",
    "        cv2.rectangle(ans, (x, y),(x + w, y + h),(0, 255, 0), 2)\n",
    "        cv2.putText(ans,\"Flashes\",(x-w,y-h+20),cv2.FONT_HERSHEY_SIMPLEX,0.5, (0, 255, 0),1)\n",
    "d1=np.copy(d)\n",
    "d1=cv2.cvtColor(d1,cv2.COLOR_BGR2GRAY)\n",
    "\n",
    "good=cv2.bitwise_not(good)\n",
    "\n",
    "d1=cv2.bitwise_and(good,d1,mask=good)\n",
    "\n",
    "c1,_=cv2.findContours(d1,cv2.RETR_TREE,cv2.CHAIN_APPROX_SIMPLE)\n",
    "\n",
    "for i in c1:\n",
    "    if cv2.contourArea(i) > 10:\n",
    "        x, y, w, h = cv2.boundingRect(i)\n",
    "        cv2.rectangle(ans, (x, y),(x + w, y + h),(0, 255, 0), 2)\n",
    "        cv2.putText(ans,\"Cuts\",(x-w,y-h+20),cv2.FONT_HERSHEY_SIMPLEX,0.5, (0, 255, 0),1)\n",
    "cv2.imshow(\"one\",ans)\n",
    "cv2.waitKey(0)\n",
    "cv2.destroyAllWindows()"
   ]
  },
  {
   "cell_type": "code",
   "execution_count": null,
   "id": "e9d947f1",
   "metadata": {},
   "outputs": [],
   "source": []
  }
 ],
 "metadata": {
  "kernelspec": {
   "display_name": "Python 3 (ipykernel)",
   "language": "python",
   "name": "python3"
  },
  "language_info": {
   "codemirror_mode": {
    "name": "ipython",
    "version": 3
   },
   "file_extension": ".py",
   "mimetype": "text/x-python",
   "name": "python",
   "nbconvert_exporter": "python",
   "pygments_lexer": "ipython3",
   "version": "3.9.12"
  }
 },
 "nbformat": 4,
 "nbformat_minor": 5
}
